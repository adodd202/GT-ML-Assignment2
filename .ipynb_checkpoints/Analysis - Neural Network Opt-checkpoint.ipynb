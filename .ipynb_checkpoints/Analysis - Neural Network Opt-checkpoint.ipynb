{
 "cells": [
  {
   "cell_type": "markdown",
   "metadata": {},
   "source": [
    "Andrew Dodd, 3/6/21\n",
    "\n",
    "## Assignment 2: Overview\n",
    "### Part 1:\n",
    "Four search algos:\n",
    "1. randomized hill climbing\n",
    "2. simulated annealing\n",
    "3. a genetic algorithm\n",
    "4. MIMIC\n",
    "\n",
    "Three optimization problems:\n",
    "1. 4 Peaks (GA)\n",
    "2. K-color problem (MIMIC)\n",
    "3. Count Ones (SA)\n",
    "\n",
    "### Part 2:\n",
    "Use neural net provided by mlrose, solve \n",
    "_________"
   ]
  },
  {
   "cell_type": "code",
   "execution_count": 16,
   "metadata": {},
   "outputs": [],
   "source": [
    "import six\n",
    "import sys\n",
    "sys.modules['sklearn.externals.six'] = six\n",
    "import mlrose\n",
    "import numpy as np\n",
    "import matplotlib.pyplot as plt\n",
    "import seaborn as sns\n",
    "import pandas as pd\n",
    "from time import time\n",
    "\n",
    "from sklearn.model_selection import train_test_split\n",
    "from sklearn.metrics import roc_auc_score\n",
    "from sklearn.preprocessing import StandardScaler\n",
    "\n",
    "from sklearn.model_selection import cross_val_score\n",
    "from sklearn.metrics import classification_report \n",
    "from sklearn.metrics import average_precision_score, precision_recall_curve\n",
    "from sklearn.metrics import plot_precision_recall_curve\n",
    "\n",
    "from sklearn.metrics import confusion_matrix\n",
    "from sklearn.metrics import accuracy_score, precision_score, recall_score, f1_score"
   ]
  },
  {
   "cell_type": "markdown",
   "metadata": {},
   "source": [
    "## Preprocess"
   ]
  },
  {
   "cell_type": "code",
   "execution_count": 17,
   "metadata": {},
   "outputs": [
    {
     "data": {
      "text/plain": [
       "((7043, 48), (7043,))"
      ]
     },
     "execution_count": 17,
     "metadata": {},
     "output_type": "execute_result"
    }
   ],
   "source": [
    "# Read data in\n",
    "df = pd.read_csv('./data/WA_Fn-UseC_-Telco-Customer-Churn.csv')\n",
    "df_orig = df.copy()\n",
    "\n",
    "# Change columns\n",
    "df['tenure'] = pd.to_numeric(df['tenure'])\n",
    "df = df.drop(['customerID'], axis=1)\n",
    "df['MonthlyCharges'] = df['MonthlyCharges'].map(lambda x: float(x))\n",
    "df['MonthlyCharges'] = pd.to_numeric(df['MonthlyCharges'])\n",
    "df['TotalCharges'] = df['TotalCharges'].map(lambda x: float(x) if x!=' ' else -9999)\n",
    "df['TotalCharges'] = pd.to_numeric(df['TotalCharges'])\n",
    "\n",
    "# Feature engineering columns\n",
    "\"\"\"\n",
    "· “Long Term Bundle Client” = if( “tenure” > 24 months && “InternetService” != No && “PhoneService” == Yes), (Yes or No)\n",
    "· “Bachelor Client” = if( “gender” == male && “Partner” == No && “Dependents” == No), (Yes or No)\n",
    "· “New Family Client” = if( “Partner” == Yes && “Dependents” == Yes && “tenure” < 12 months), (Yes or No)\n",
    "\"\"\"\n",
    "df['Long Term Bundle Client'] = (df[\"tenure\"]>24) & (df['InternetService']!='No') & (df['PhoneService']=='Yes')\n",
    "df['Bachelor Client'] = (df['gender']=='Male') & (df['Partner']=='No') & (df['Dependents']=='No')\n",
    "df['New Family Client'] = (df['Partner']=='Yes') & (df['Dependents']=='Yes') & (df['tenure']<12)\n",
    "for col in ['Long Term Bundle Client', 'Bachelor Client', 'New Family Client']:\n",
    "    df[col] = df[col].apply(lambda x: 1 if x else 0)\n",
    "\n",
    "# Get dummies based on prev. dataframe\n",
    "df = df.drop(['Churn'], axis=1)\n",
    "df = pd.get_dummies(df)\n",
    "\n",
    "df_orig['Churn'] = df_orig['Churn'].map({'No':0,'Yes':1})\n",
    "pd.set_option('display.max_columns', 500)\n",
    "df.values[0:1]\n",
    "\n",
    "X = df.values\n",
    "y = df_orig['Churn'].values\n",
    "X.shape, y.shape"
   ]
  },
  {
   "cell_type": "code",
   "execution_count": 18,
   "metadata": {},
   "outputs": [
    {
     "name": "stdout",
     "output_type": "stream",
     "text": [
      "Number of positive samples:  1612\n",
      "Number of positive samples:  5431\n",
      "y shape:  (7043,)\n",
      "X shape:  (7043, 46)\n"
     ]
    }
   ],
   "source": [
    "X = df.values[:,:-2]\n",
    "y = df.values[:,-1]\n",
    "print(\"Number of positive samples: \", (y==1).sum())\n",
    "print(\"Number of positive samples: \", (y==0).sum())\n",
    "print(\"y shape: \", y.shape)\n",
    "print(\"X shape: \", X.shape)"
   ]
  },
  {
   "cell_type": "code",
   "execution_count": 51,
   "metadata": {},
   "outputs": [
    {
     "data": {
      "text/plain": [
       "(1300.0, 312.0)"
      ]
     },
     "execution_count": 51,
     "metadata": {},
     "output_type": "execute_result"
    }
   ],
   "source": [
    "X_train, X_test, y_train, y_test = train_test_split(X, y, test_size=0.2, random_state=44)\n",
    "y_train.sum(), y_test.sum()"
   ]
  },
  {
   "cell_type": "code",
   "execution_count": 52,
   "metadata": {},
   "outputs": [
    {
     "data": {
      "text/plain": [
       "((5634, 46),\n",
       " array([[-0.44119892, -0.94328209, -1.3273276 , ...,  0.82753164,\n",
       "         -0.52710604, -0.53150247],\n",
       "        [-0.44119892,  1.61999733, -0.00253038, ...,  0.82753164,\n",
       "         -0.52710604, -0.53150247],\n",
       "        [-0.44119892, -1.26877789, -0.30248447, ..., -1.20841301,\n",
       "         -0.52710604, -0.53150247],\n",
       "        ...,\n",
       "        [-0.44119892,  1.21312758,  1.37559201, ...,  0.82753164,\n",
       "         -0.52710604,  1.88145879],\n",
       "        [-0.44119892,  0.48076203,  0.20577107, ...,  0.82753164,\n",
       "         -0.52710604, -0.53150247],\n",
       "        [-0.44119892, -1.26877789, -1.4856367 , ..., -1.20841301,\n",
       "         -0.52710604, -0.53150247]]))"
      ]
     },
     "execution_count": 52,
     "metadata": {},
     "output_type": "execute_result"
    }
   ],
   "source": [
    "scaler = StandardScaler()\n",
    "scaler.fit(X_train)\n",
    "scaler.mean_\n",
    "X_train = scaler.transform(X_train)\n",
    "X_train.shape, X_train"
   ]
  },
  {
   "cell_type": "code",
   "execution_count": 53,
   "metadata": {},
   "outputs": [],
   "source": [
    "X_test = scaler.transform(X_test)"
   ]
  },
  {
   "cell_type": "markdown",
   "metadata": {},
   "source": [
    "# Optimize"
   ]
  },
  {
   "cell_type": "code",
   "execution_count": 79,
   "metadata": {},
   "outputs": [],
   "source": [
    "## 0. Tune Hyperparameters"
   ]
  },
  {
   "cell_type": "code",
   "execution_count": null,
   "metadata": {},
   "outputs": [],
   "source": [
    "expdecay = mlrose.ExpDecay(init_temp=1.0, exp_const=0.005, min_temp=0.001)\n",
    "arithdecay = mlrose.ArithDecay(init_temp=1.0, decay=0.0001, min_temp=0.001)\n",
    "geomdecay = mlrose.GeomDecay(init_temp=1.0, decay=0.99, min_temp=0.001)"
   ]
  },
  {
   "cell_type": "markdown",
   "metadata": {},
   "source": [
    "## 1. All algos AUC and Train Time as a Function of Dataset Size"
   ]
  },
  {
   "cell_type": "code",
   "execution_count": 116,
   "metadata": {},
   "outputs": [],
   "source": [
    "import warnings\n",
    "warnings.filterwarnings(\"ignore\")\n",
    "train_sizes = [0.2, 0.4 ,0.6, 0.8, 1]\n",
    "lrs = [1e-3, 3e-3, 1e-2, 3e-2, 1e-1, 3e-1, 1]"
   ]
  },
  {
   "cell_type": "code",
   "execution_count": 82,
   "metadata": {},
   "outputs": [],
   "source": [
    "def train(nn_model):\n",
    "    train_sizes = [0.2, 0.4 ,0.6, 0.8, 1]\n",
    "    aucs = []\n",
    "    times = []\n",
    "    n = 1\n",
    "    for train_size in train_sizes:\n",
    "        auc = []\n",
    "        tic = time()\n",
    "        for i in range(n):\n",
    "            if train_size == 1:\n",
    "                X_train1, y_train1 = X_train, y_train\n",
    "            else:\n",
    "                X_train1, X_test1, y_train1, y_test1 = train_test_split(X, y, test_size=1-train_size, random_state=44)\n",
    "            nn_model.fit(X_train1, y_train1)\n",
    "\n",
    "            # Predict on val setI \n",
    "            y_pred = nn_model.predict(X_test)\n",
    "            auc.append(roc_auc_score(y_test, y_pred))\n",
    "        aucs.append(sum(auc)/len(auc))\n",
    "        times.append((time()-tic)/n)\n",
    "    return aucs, times\n",
    "\n",
    "def train_lrs(nn_model):\n",
    "    lrs = [1e-3, 3e-3, 1e-2, 3e-2, 1e-1, 3e-1, 1]\n",
    "    aucs = []\n",
    "    n = 1\n",
    "    for lr in lrs:\n",
    "        auc = []\n",
    "\n",
    "        nn_model.fit(X_train, y_train)\n",
    "        y_pred = nn_model.predict(X_test)\n",
    "        \n",
    "        aucs.append(roc_auc_score(y_test, y_pred))\n",
    "    return aucs"
   ]
  },
  {
   "cell_type": "code",
   "execution_count": 84,
   "metadata": {},
   "outputs": [],
   "source": [
    "nn_model = mlrose.NeuralNetwork(hidden_nodes=[30, 2], algorithm = 'random_hill_climb', max_iters = 1000,\n",
    "                        activation='relu', bias=True, is_classifier=True, learning_rate=1,restarts=100) \n",
    "aucs_rhc, time_rhc = train(nn_model)\n",
    "aucs_rhc2 = train_lrs(nn_model)"
   ]
  },
  {
   "cell_type": "code",
   "execution_count": 76,
   "metadata": {},
   "outputs": [],
   "source": [
    "nn_model = mlrose.NeuralNetwork(hidden_nodes=[30, 2], algorithm = 'simulated_annealing', max_iters = 1000, max_attempts=50,\n",
    "                        activation='relu', bias=True, is_classifier=True, learning_rate=1,restarts=10)\n",
    "aucs_sa, time_sa = train(nn_model)\n",
    "aucs_sa2 = train_lrs(nn_model)"
   ]
  },
  {
   "cell_type": "code",
   "execution_count": null,
   "metadata": {},
   "outputs": [],
   "source": [
    "nn_model = mlrose.NeuralNetwork(hidden_nodes=[30, 2], algorithm = 'genetic_alg', max_iters = 100, max_attempts=50,\n",
    "                        activation='relu', bias=True, is_classifier=True, learning_rate=1,restarts=10)\n",
    "aucs_ga, time_ga = train(nn_model)\n",
    "aucs_ga2 = train_lrs(nn_model)"
   ]
  },
  {
   "cell_type": "code",
   "execution_count": 151,
   "metadata": {},
   "outputs": [],
   "source": [
    "pop_szs = [10,30,80,150,220,400]\n",
    "aucs_ga3 = []\n",
    "for pop_sz in pop_szs:\n",
    "    nn_model = mlrose.NeuralNetwork(hidden_nodes=[30, 2], algorithm = 'genetic_alg', max_iters = 100, max_attempts=50,\n",
    "                        activation='relu', bias=True, is_classifier=True, \n",
    "                        learning_rate=1,restarts=10, pop_size=pop_sz)\n",
    "    nn_model.fit(X_train, y_train)\n",
    "    y_pred = nn_model.predict(X_test)\n",
    "    aucs_ga3.append(roc_auc_score(y_test, y_pred))"
   ]
  },
  {
   "cell_type": "code",
   "execution_count": 160,
   "metadata": {},
   "outputs": [],
   "source": [
    "rhc = pd.DataFrame({'auc':aucs_rhc, 'data_sz': train_sizes}) \n",
    "ga = pd.DataFrame({'auc':aucs_ga, 'data_sz': train_sizes}) \n",
    "sa = pd.DataFrame({'auc':aucs_sa, 'data_sz': train_sizes}) \n",
    "concatenated = pd.concat([ga.assign(dataset='ga'), \n",
    "                          sa.assign(dataset='sa'),\n",
    "                          rhc.assign(dataset='rhc'),\n",
    "                         ])\n",
    "concatenated = concatenated.rename(columns={'dataset':'algo'})\n",
    "\n",
    "lrs = [np.log(lr) for lr in lrs]\n",
    "rhc2 = pd.DataFrame({'auc':aucs_rhc2, 'lr':lrs }) \n",
    "ga2 = pd.DataFrame({'auc':aucs_ga2, 'lr':lrs }) \n",
    "sa2 = pd.DataFrame({'auc':aucs_sa2, 'lr':lrs }) \n",
    "concatenated2 = pd.concat([ga2.assign(dataset='ga'), \n",
    "                          sa2.assign(dataset='sa'),\n",
    "                          rhc2.assign(dataset='rhc'),\n",
    "                         ])\n",
    "concatenated2 = concatenated2.rename(columns={'dataset':'algo'})"
   ]
  },
  {
   "cell_type": "code",
   "execution_count": 161,
   "metadata": {},
   "outputs": [
    {
     "data": {
      "text/plain": [
       "[Text(0.5, 0, 'Dataset Size'), Text(0, 0.5, 'AUC')]"
      ]
     },
     "execution_count": 161,
     "metadata": {},
     "output_type": "execute_result"
    },
    {
     "data": {
      "image/png": "[encoded data removed]",
      "text/plain": [
       "<Figure size 576x432 with 1 Axes>"
      ]
     },
     "metadata": {
      "needs_background": "light"
     },
     "output_type": "display_data"
    }
   ],
   "source": [
    "f, ax = plt.subplots(1,1, figsize=(8,6))\n",
    "sns.set_palette(\"Reds\")\n",
    "sns.lineplot(x = 'data_sz', y='auc', hue='algo', data=pd.DataFrame(concatenated), linewidth = 3)\n",
    "ax.set_title(\"AUC vs. Dataset Size\", fontsize=12)\n",
    "ax.set(xlabel='Dataset Size', ylabel='AUC')"
   ]
  },
  {
   "cell_type": "code",
   "execution_count": 146,
   "metadata": {},
   "outputs": [
    {
     "data": {
      "text/plain": [
       "[Text(0.5, 0, 'Learning Rate (log)'), Text(0, 0.5, 'AUC')]"
      ]
     },
     "execution_count": 146,
     "metadata": {},
     "output_type": "execute_result"
    },
    {
     "data": {
      "image/png": "[encoded data removed]",
      "text/plain": [
       "<Figure size 576x432 with 1 Axes>"
      ]
     },
     "metadata": {
      "needs_background": "light"
     },
     "output_type": "display_data"
    }
   ],
   "source": [
    "f, ax = plt.subplots(1,1, figsize=(8,6))\n",
    "sns.set_palette(\"Reds\")\n",
    "sns.lineplot(x = 'lr', y='auc', hue='algo', data=pd.DataFrame(concatenated2), linewidth = 3)\n",
    "ax.set_title(\"AUC vs. Log of Learning Rate\", fontsize=12)\n",
    "ax.set(xlabel='Learning Rate (log)', ylabel='AUC')"
   ]
  },
  {
   "cell_type": "code",
   "execution_count": 159,
   "metadata": {},
   "outputs": [
    {
     "data": {
      "text/plain": [
       "[Text(0.5, 0, 'Population Size'), Text(0, 0.5, 'AUC')]"
      ]
     },
     "execution_count": 159,
     "metadata": {},
     "output_type": "execute_result"
    },
    {
     "data": {
      "image/png": "[encoded data removed]",
      "text/plain": [
       "<Figure size 576x432 with 1 Axes>"
      ]
     },
     "metadata": {
      "needs_background": "light"
     },
     "output_type": "display_data"
    }
   ],
   "source": [
    "f, ax = plt.subplots(1,1, figsize=(8,6))\n",
    "sns.lineplot(x =pop_szs, y=aucs_ga3, linewidth = 3)\n",
    "ax.set_title(\"AUC vs. Population Size (GA)\", fontsize=12)\n",
    "ax.set(xlabel='Population Size', ylabel='AUC')"
   ]
  },
  {
   "cell_type": "code",
   "execution_count": null,
   "metadata": {},
   "outputs": [],
   "source": []
  }
 ],
 "metadata": {
  "kernelspec": {
   "display_name": "Python 3",
   "language": "python",
   "name": "python3"
  },
  "language_info": {
   "codemirror_mode": {
    "name": "ipython",
    "version": 3
   },
   "file_extension": ".py",
   "mimetype": "text/x-python",
   "name": "python",
   "nbconvert_exporter": "python",
   "pygments_lexer": "ipython3",
   "version": "3.8.5"
  }
 },
 "nbformat": 4,
 "nbformat_minor": 4
}
